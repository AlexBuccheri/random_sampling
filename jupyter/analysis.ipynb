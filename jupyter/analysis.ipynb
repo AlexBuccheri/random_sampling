{
 "cells": [
  {
   "cell_type": "markdown",
   "source": [
    "# Analyse Random Number Generation\n",
    "\n",
    "* Check for duplicates\n",
    "* Check number distributions\n",
    "    "
   ],
   "metadata": {
    "collapsed": false
   },
   "id": "9e8e492890900b80"
  },
  {
   "cell_type": "code",
   "execution_count": 10,
   "outputs": [],
   "source": [
    "import numpy as np\n",
    "import os\n",
    "import subprocess\n",
    "\n",
    "\n",
    "def get_random_numbers(dir:str, settings: str, type):\n",
    "\n",
    "    with open('settings', mode='w') as fid:\n",
    "        fid.write(settings)\n",
    "    \n",
    "    result = subprocess.run([f'./{dir}/test_xor'], capture_output=True, check=True, encoding=\"utf-8\")\n",
    "        \n",
    "    os.remove('settings')\n",
    "    \n",
    "    # Parse result into numpy, avoiding last line, which is blank\n",
    "    random_values = np.empty(shape=n_random, dtype=type)\n",
    "    for i, line in enumerate(result.stdout.split('\\n')[:-1]):\n",
    "        random_values[i] = type(line.split()[-1])\n",
    "        \n",
    "    return random_values\n",
    "        \n"
   ],
   "metadata": {
    "collapsed": false,
    "ExecuteTime": {
     "end_time": "2024-08-15T11:11:54.624540Z",
     "start_time": "2024-08-15T11:11:54.617402Z"
    }
   },
   "id": "22c6ae5dfde2bbe1"
  },
  {
   "cell_type": "code",
   "execution_count": 11,
   "outputs": [
    {
     "name": "stdout",
     "output_type": "stream",
     "text": [
      "Range [1, 10.0]. Number of unique values (10000,) / 10000\n",
      "Range [1, 100.0]. Number of unique values (10000,) / 10000\n",
      "Range [1, 1000.0]. Number of unique values (10000,) / 10000\n"
     ]
    }
   ],
   "source": [
    "\"\"\" Clearly fine due to the floating point precision, allowing for small differences in two reals.\n",
    "\"\"\"\n",
    "build_dir = 'cmake-build'\n",
    "\n",
    "# Real64 tests\n",
    "n_random = 10000\n",
    "\n",
    "for r_max in [10., 100., 1000.]:\n",
    "    # Dump then remove\n",
    "    settings = f\"\"\"real64\n",
    "    {n_random}\n",
    "    1 {r_max}\n",
    "    \"\"\"\n",
    "    \n",
    "    random_reals = get_random_numbers(build_dir, settings, float)\n",
    "    \n",
    "    # Check unique values\n",
    "    print(f'Range [1, {r_max}]. Number of unique values {np.unique(random_reals).shape} / {n_random}')\n"
   ],
   "metadata": {
    "collapsed": false,
    "ExecuteTime": {
     "end_time": "2024-08-15T11:11:55.377891Z",
     "start_time": "2024-08-15T11:11:55.297416Z"
    }
   },
   "id": "1607582054b4a2ac"
  },
  {
   "cell_type": "code",
   "execution_count": 13,
   "outputs": [
    {
     "name": "stdout",
     "output_type": "stream",
     "text": [
      "Range [1, 10]. Number of unique values (5,) / 10000\n",
      "Range [1, 100]. Number of unique values (50,) / 10000\n",
      "Range [1, 1000]. Number of unique values (500,) / 10000\n",
      "Range [1, 2000]. Number of unique values (1000,) / 10000\n",
      "Range [1, 5000]. Number of unique values (2460,) / 10000\n",
      "Range [1, 10000]. Number of unique values (4328,) / 10000\n",
      "Range [1, 100000]. Number of unique values (9042,) / 10000\n"
     ]
    }
   ],
   "source": [
    "\"\"\" Even with a normal distribution of pseudo-random numbers and i_max - i_min >> total number of random \n",
    "numbers asked for (by an order of magnitude), I am still getting ~ 10% of the return values as duplicates.\n",
    "\"\"\"\n",
    "# Integer tests\n",
    "n_random = 10000\n",
    "\n",
    "i_max_values = [10, 100, 1000, 2000, 5000, 10000, 100000]\n",
    "\n",
    "for i_max in i_max_values:\n",
    "    # Dump then remove\n",
    "    settings = f\"\"\"int32\n",
    "    {n_random}\n",
    "    1 {i_max}\n",
    "    \"\"\"\n",
    "    \n",
    "    random_integers = get_random_numbers(build_dir, settings, int)\n",
    "    \n",
    "    # Check unique values\n",
    "    print(f'Range [1, {i_max}]. Number of unique values {np.unique(random_integers).shape} / {n_random}')\n"
   ],
   "metadata": {
    "collapsed": false,
    "ExecuteTime": {
     "end_time": "2024-08-15T11:12:13.208369Z",
     "start_time": "2024-08-15T11:12:13.102228Z"
    }
   },
   "id": "de6e87b647441a4d"
  },
  {
   "cell_type": "raw",
   "source": [
    "## Discussion: Sampling Integers from a finite range\n",
    "\n",
    "Simplest solution for the application I want (still prototyping) is to not scale the integers\n",
    "and reject those random values > i_max and < i_min. If s_max >> i_max, this could be extremely \n",
    "inefficient.\n",
    "\n",
    "Approaches to test for sampling without replacement:\n",
    "* Reservoir sampling\n",
    "* Hidden shuffle algorithm\n",
    "\n",
    "Check for:\n",
    "* Uniqueness\n",
    "* Distribution of random numbers\n",
    "* Timing\n"
   ],
   "metadata": {
    "collapsed": false
   },
   "id": "62746e295efd6d7f"
  },
  {
   "cell_type": "code",
   "execution_count": null,
   "outputs": [],
   "source": [
    "\n"
   ],
   "metadata": {
    "collapsed": false
   },
   "id": "84e17122fb80d7b3"
  }
 ],
 "metadata": {
  "kernelspec": {
   "display_name": "Python 3",
   "language": "python",
   "name": "python3"
  },
  "language_info": {
   "codemirror_mode": {
    "name": "ipython",
    "version": 2
   },
   "file_extension": ".py",
   "mimetype": "text/x-python",
   "name": "python",
   "nbconvert_exporter": "python",
   "pygments_lexer": "ipython2",
   "version": "2.7.6"
  }
 },
 "nbformat": 4,
 "nbformat_minor": 5
}
